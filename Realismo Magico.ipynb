{
 "cells": [
  {
   "cell_type": "code",
   "execution_count": 3,
   "metadata": {
    "collapsed": true
   },
   "outputs": [],
   "source": [
    "from datascience import *\n",
    "import gensim\n",
    "import nltk\n",
    "import numpy as np\n",
    "\n",
    "import matplotlib.pyplot as plt\n",
    "%matplotlib inline"
   ]
  },
  {
   "cell_type": "markdown",
   "metadata": {},
   "source": [
    "# Reading in the texts"
   ]
  },
  {
   "cell_type": "code",
   "execution_count": 98,
   "metadata": {
    "collapsed": true
   },
   "outputs": [],
   "source": [
    "def split_dialogues(chapters):\n",
    "    new_chapters_list = []\n",
    "    for i in range(len(chapters)):\n",
    "        new_chapters_list.append(chapters[i].split('\\n'))\n",
    "    return new_chapters_list"
   ]
  },
  {
   "cell_type": "markdown",
   "metadata": {},
   "source": [
    "## One Hundred Years of Solitude"
   ]
  },
  {
   "cell_type": "code",
   "execution_count": 94,
   "metadata": {
    "collapsed": false
   },
   "outputs": [],
   "source": [
    "with open('hundred_years.txt', 'r') as h:\n",
    "    hundred_years_text = h.read()\n",
    "    \n",
    "hundred_years_chapters = hundred_years_text.split('\\n\\n')"
   ]
  },
  {
   "cell_type": "markdown",
   "metadata": {},
   "source": [
    "## Pedro Paramo"
   ]
  },
  {
   "cell_type": "code",
   "execution_count": 48,
   "metadata": {
    "collapsed": false
   },
   "outputs": [],
   "source": [
    "with open('pedro_paramo.txt', 'r') as p:\n",
    "    pedro_paramo_text = p.read()\n",
    "    \n",
    "pedro_paramo_sections = pedro_paramo_text.split('\\n\\n\\n')"
   ]
  },
  {
   "cell_type": "markdown",
   "metadata": {},
   "source": [
    "## La casa de los espírutus\n",
    "For this book, each newline is a page break or a dialogue break."
   ]
  },
  {
   "cell_type": "code",
   "execution_count": 49,
   "metadata": {
    "collapsed": false
   },
   "outputs": [],
   "source": [
    "with open('casa_de_espiritus.txt', 'r') as c:\n",
    "    casa_text = c.read()\n",
    "    \n",
    "casa_chapters = casa_text.split('\\n\\n')"
   ]
  },
  {
   "cell_type": "markdown",
   "metadata": {},
   "source": [
    "## El reino de este mundo\n",
    "For this work, a section is represented as a single-element list:\n",
    "\n",
    "    [\n",
    "         ['I'],\n",
    "         ['Chapter 1...',],\n",
    "         ['Chapter 2...',],\n",
    "         ['II'],\n",
    "         ['Chapter 1 of section 2...',],\n",
    "         ...\n",
    "    ]\n",
    "    \n",
    "The code then converts this list into a nested list: \n",
    "a list of sections, which themselves are lists of chapters\n",
    "\n",
    "    [\n",
    "        ['Chapter 1...', 'Chapter 2...', ...],\n",
    "        ['Chapter 1...', 'Chapter 2...', ...],\n",
    "        ...\n",
    "    ]"
   ]
  },
  {
   "cell_type": "code",
   "execution_count": 46,
   "metadata": {
    "collapsed": false
   },
   "outputs": [
    {
     "data": {
      "text/plain": [
       "4"
      ]
     },
     "execution_count": 46,
     "metadata": {},
     "output_type": "execute_result"
    }
   ],
   "source": [
    "with open('reino_de_este_mundo.txt', 'r') as r:\n",
    "    reino_text = r.read()\n",
    "    \n",
    "reino_sections = reino_text.split('\\n\\n')\n",
    "reino_chapters = []\n",
    "i = 0\n",
    "while i < len(reino_sections):\n",
    "    i += 1 # To ignore the one-word list\n",
    "    section_chapters = []\n",
    "    # The following one-word list indicates the start of the next section\n",
    "    while i < len(reino_sections) and len(reino_sections[i].split()) != 1:\n",
    "        section_chapters.append(reino_sections[i])\n",
    "        i += 1\n",
    "    reino_chapters.append(section_chapters)"
   ]
  },
  {
   "cell_type": "markdown",
   "metadata": {},
   "source": [
    "# Chapter Term Matrix Clustering\n",
    "According to María-Elena Angulo, one of the characteristics of *realismo maravilloso* \"is the juxtaposition of natural and supernatural elements without conflict, the intersection of myth and history to find 'another sense' of reality\" (20). Then it should be the case that there are no significant differences in vocabulary use in separate chapters. Note that no tokenization was used here, so punctuation may affect the counts of words."
   ]
  },
  {
   "cell_type": "code",
   "execution_count": 73,
   "metadata": {
    "collapsed": false
   },
   "outputs": [],
   "source": [
    "from sklearn.metrics import pairwise\n",
    "from sklearn.manifold import MDS\n",
    "\n",
    "def analyze_chapter_term_matrices(chapters):\n",
    "    cv = CountVectorizer()\n",
    "    dtm = cv.fit_transform(chapters)\n",
    "    tt = TfidfTransformer(norm='l1',use_idf=False)\n",
    "    dtm_tf = tt.fit_transform(dtm)\n",
    "\n",
    "    word_list = cv.get_feature_names()\n",
    "    dtm_array = dtm_tf.toarray()\n",
    "    dist_matrix = pairwise.pairwise_distances(dtm_array, metric='euclidean')\n",
    "    mds = MDS(n_components = 2, dissimilarity=\"precomputed\")\n",
    "    embeddings = mds.fit_transform(dist_matrix)\n",
    "\n",
    "    _, ax = plt.subplots(figsize=(5,5))\n",
    "    ax.scatter(embeddings[:,0], embeddings[:,1], alpha=0)\n",
    "    for i in range(len(dist_matrix)):\n",
    "        ax.annotate(i+1, ((embeddings[i,0], embeddings[i,1])))"
   ]
  },
  {
   "cell_type": "code",
   "execution_count": 74,
   "metadata": {
    "collapsed": false
   },
   "outputs": [
    {
     "data": {
      "image/png": "[encoded data removed]",
      "text/plain": [
       "<matplotlib.figure.Figure at 0x10e107390>"
      ]
     },
     "metadata": {},
     "output_type": "display_data"
    }
   ],
   "source": [
    "analyze_chapter_term_matrices(hundred_years_chapters)"
   ]
  },
  {
   "cell_type": "code",
   "execution_count": 75,
   "metadata": {
    "collapsed": false
   },
   "outputs": [
    {
     "data": {
      "image/png": "[encoded data removed]",
      "text/plain": [
       "<matplotlib.figure.Figure at 0x10fba5550>"
      ]
     },
     "metadata": {},
     "output_type": "display_data"
    }
   ],
   "source": [
    "analyze_chapter_term_matrices(casa_chapters)"
   ]
  },
  {
   "cell_type": "code",
   "execution_count": 76,
   "metadata": {
    "collapsed": false
   },
   "outputs": [
    {
     "data": {
      "image/png": "[encoded data removed]",
      "text/plain": [
       "<matplotlib.figure.Figure at 0x1104d6f60>"
      ]
     },
     "metadata": {},
     "output_type": "display_data"
    }
   ],
   "source": [
    "analyze_chapter_term_matrices(pedro_paramo_sections)"
   ]
  },
  {
   "cell_type": "code",
   "execution_count": 82,
   "metadata": {
    "collapsed": false
   },
   "outputs": [
    {
     "data": {
      "image/png": "[encoded data removed]",
      "text/plain": [
       "<matplotlib.figure.Figure at 0x10eeee550>"
      ]
     },
     "metadata": {},
     "output_type": "display_data"
    }
   ],
   "source": [
    "def flatten(lst):\n",
    "    return [item for sublist in lst for item in sublist]\n",
    "\n",
    "flattened_reino_chapters = flatten(reino_chapters)\n",
    "analyze_chapter_term_matrices(flattened_reino_chapters)"
   ]
  },
  {
   "cell_type": "markdown",
   "metadata": {},
   "source": [
    "Chapter 14 of *One Hundred Years of Solitude* and the final chapter of *La casa de los espíritus* seems to be outliers. There are otherwise no meaningful patterns from these clusters."
   ]
  },
  {
   "cell_type": "markdown",
   "metadata": {},
   "source": [
    "# Text Processing"
   ]
  },
  {
   "cell_type": "code",
   "execution_count": 141,
   "metadata": {
    "collapsed": true
   },
   "outputs": [],
   "source": [
    "from sklearn.feature_extraction.text import CountVectorizer, TfidfTransformer\n",
    "from nltk.stem.snowball import SnowballStemmer\n",
    "import string\n",
    "\n",
    "from sklearn.feature_extraction.stop_words import ENGLISH_STOP_WORDS"
   ]
  },
  {
   "cell_type": "code",
   "execution_count": 143,
   "metadata": {
    "collapsed": false
   },
   "outputs": [
    {
     "name": "stdout",
     "output_type": "stream",
     "text": [
      "[['happi', 'birthday'], ['special']]\n",
      "[['feliz', 'cumpleañ'], ['quer', 'dieg']]\n"
     ]
    }
   ],
   "source": [
    "def split_words(chapters, language):\n",
    "    new_chapters_list = []\n",
    "    stemmer = SnowballStemmer(language)\n",
    "    \n",
    "    for i in range(len(chapters)):\n",
    "        chapter_text = chapters[i]\n",
    "        # Remove punctuation\n",
    "        chapter_text = ''.join([char for char in chapter_text if char not in string.punctuation])\n",
    "        \n",
    "        # Remove stopwords and stem\n",
    "        chapter_words = [stemmer.stem(token.lower()) for token in chapter_text.split() \n",
    "                         if token.lower() not in ENGLISH_STOP_WORDS]\n",
    "        new_chapters_list.append(chapter_words)\n",
    "    return new_chapters_list\n",
    "\n",
    "print(split_words(['happy birthday', 'to you special one'], 'english'))\n",
    "print(split_words(['feliz cumpleaños', 'querido Diego'], 'spanish'))"
   ]
  },
  {
   "cell_type": "markdown",
   "metadata": {},
   "source": [
    "# Topic Modeling\n",
    "Since the natural and supernatural are well integrated in the novel, one approach to tease out the difference is via topic modeling. Traditional topic modeling approaches are more appropriate for thousands of small documents, but they are worth trying here."
   ]
  },
  {
   "cell_type": "code",
   "execution_count": 144,
   "metadata": {
    "collapsed": false
   },
   "outputs": [],
   "source": [
    "split_chapters = split_words(hundred_years_chapters, 'english')\n",
    "dictionary = gensim.corpora.dictionary.Dictionary(split_chapters)\n",
    "corpus = [dictionary.doc2bow(text) for text in split_chapters]\n",
    "# Must increase the number of passes, or else the model does not converge\n",
    "lda_model = gensim.models.LdaModel(corpus, num_topics=100, id2word=dictionary, passes=10)"
   ]
  },
  {
   "cell_type": "code",
   "execution_count": 145,
   "metadata": {
    "collapsed": false
   },
   "outputs": [
    {
     "name": "stdout",
     "output_type": "stream",
     "text": [
      "0 [(9, 0.54818601237355868), (60, 0.45145461835617801)]\n",
      "1 [(9, 0.01830177540194362), (60, 0.78755043417196047), (61, 0.1937928690942233)]\n",
      "2 [(9, 0.17003439292745801), (44, 0.080665188885553629), (60, 0.65718636784497109), (61, 0.091826625192314257)]\n",
      "3 [(9, 0.083449876130907652), (10, 0.012595356474772315), (50, 0.024638754463092896), (60, 0.84426298717507275), (88, 0.023716771079861379)]\n",
      "4 [(9, 0.39157059632469449), (60, 0.31641575694743995), (61, 0.039335802083054802), (88, 0.23975804416282093), (94, 0.010017309703407631)]\n",
      "5 [(1, 0.01256738179878094), (9, 0.024034612284233446), (44, 0.59870414024517049), (60, 0.36433844175474422)]\n",
      "6 [(60, 0.88135750926389733), (61, 0.11520769990324051)]\n",
      "7 [(1, 0.42623244490634488), (9, 0.17052023341200767), (60, 0.25331035418964171), (61, 0.14960876236379797)]\n",
      "8 [(60, 0.10037614994865755), (61, 0.89929085650733698)]\n",
      "9 [(1, 0.049443562081429519), (9, 0.44131626182582545), (44, 0.050480157726879249), (60, 0.45845803661059437)]\n",
      "10 [(9, 0.70147795638517152), (60, 0.11897157696170872), (61, 0.15255022473933619), (68, 0.025926097398038528)]\n",
      "11 [(9, 0.23844748518195621), (60, 0.54589440734449379), (61, 0.051007363991650997), (66, 0.16434186317301613)]\n",
      "12 [(9, 0.69932599696589137), (44, 0.10940523080647772), (61, 0.19097930639652999)]\n",
      "13 [(9, 0.99889407190213708)]\n",
      "14 [(9, 0.20040110741446743), (12, 0.056755505928444749), (60, 0.7282339530763603)]\n",
      "15 [(9, 0.46635802837345108), (60, 0.516539444708909)]\n",
      "16 [(9, 0.2595769877989183), (42, 0.018739826824449843), (60, 0.71760999377368673)]\n",
      "17 [(9, 0.59010950643172888), (60, 0.20700693629237982), (61, 0.20064469034560833)]\n",
      "18 [(9, 0.34815934569554607), (46, 0.24966820115834887), (60, 0.40186894876562701)]\n",
      "19 [(9, 0.45091664132041409), (12, 0.33704335871201979), (60, 0.16638138105214709), (61, 0.031589138102732513)]\n"
     ]
    }
   ],
   "source": [
    "chapter_topics = {}\n",
    "\n",
    "for i in range(len(split_chapters)):\n",
    "    chapter_topics[i] = lda_model[dictionary.doc2bow(split_chapters[i])]\n",
    "    \n",
    "for chapter in chapter_topics:\n",
    "    print(chapter, chapter_topics[chapter])"
   ]
  },
  {
   "cell_type": "markdown",
   "metadata": {},
   "source": [
    "# Works Cited\n",
    "* Angulo, María Elena. *Magical Realism: Social Context and Discourse*. New York: Garland Publishing, Inc. 1995. Print. "
   ]
  }
 ],
 "metadata": {
  "kernelspec": {
   "display_name": "Python 3",
   "language": "python",
   "name": "python3"
  },
  "language_info": {
   "codemirror_mode": {
    "name": "ipython",
    "version": 3
   },
   "file_extension": ".py",
   "mimetype": "text/x-python",
   "name": "python",
   "nbconvert_exporter": "python",
   "pygments_lexer": "ipython3",
   "version": "3.5.1"
  }
 },
 "nbformat": 4,
 "nbformat_minor": 0
}
