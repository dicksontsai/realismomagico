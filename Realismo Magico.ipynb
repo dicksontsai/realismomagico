{
 "cells": [
  {
   "cell_type": "markdown",
   "metadata": {},
   "source": [
    "# How cyclical is *One Hundred Years of Solitude*?\n",
    "\n",
    "I play with the text using Scipy's signal processing library to gather some statistics. Detailed report coming soon."
   ]
  },
  {
   "cell_type": "code",
   "execution_count": 316,
   "metadata": {
    "collapsed": true
   },
   "outputs": [],
   "source": [
    "from datascience import *\n",
    "import gensim\n",
    "import nltk\n",
    "import numpy as np\n",
    "from sklearn.feature_extraction.text import CountVectorizer, TfidfTransformer\n",
    "\n",
    "# Plotting\n",
    "import matplotlib.pyplot as plt\n",
    "%matplotlib inline\n",
    "\n",
    "# Clustering\n",
    "from sklearn.metrics import pairwise\n",
    "from sklearn.manifold import MDS\n",
    "\n",
    "# Text Processing\n",
    "from nltk.stem.snowball import SnowballStemmer\n",
    "import string\n",
    "from nltk.corpus import words\n",
    "\n",
    "from sklearn.feature_extraction.stop_words import ENGLISH_STOP_WORDS\n",
    "\n",
    "# POS and NER Tagging\n",
    "from nltk.tag.perceptron    import PerceptronTagger\n",
    "from nltk.tag.brill         import BrillTagger\n",
    "from nltk.tag.stanford      import StanfordTagger, StanfordPOSTagger, StanfordNERTagger\n",
    "from nltk import pos_tag\n",
    "from nltk.tokenize import word_tokenize, sent_tokenize\n",
    "from nltk import ne_chunk\n",
    "\n",
    "# Character trends\n",
    "from scipy import signal, constants\n",
    "\n",
    "# Saving computed objects to the file system\n",
    "import pickle\n",
    "import os"
   ]
  },
  {
   "cell_type": "markdown",
   "metadata": {},
   "source": [
    "# Reading in One Hundred Years of Solitude"
   ]
  },
  {
   "cell_type": "code",
   "execution_count": 317,
   "metadata": {
    "collapsed": false
   },
   "outputs": [],
   "source": [
    "with open('hundred_years.txt', 'r') as h:\n",
    "    hundred_years_text = h.read()"
   ]
  },
  {
   "cell_type": "markdown",
   "metadata": {},
   "source": [
    "To make my analysis easier, I want to swap Aureliano Segundo with Jose Arcadio Segundo. Sufficient evidence in the books shows that Jose Arcadio Segundo has the traits of all the other Aureliano in the family and Aureliano Segundo has the traits of all the other Arcadios."
   ]
  },
  {
   "cell_type": "code",
   "execution_count": 318,
   "metadata": {
    "collapsed": false
   },
   "outputs": [],
   "source": [
    "def hundred_years_processing(text):\n",
    "    return text.replace('Aureliano Segundo', '<temp>')\\\n",
    "              .replace('José Arcadio Segundo', 'Aureliano Segundo')\\\n",
    "              .replace('<temp>', 'José Arcadio Segundo')\\\n",
    "              .replace('José Arcadio Buendía', '<headoffamily>')\\\n",
    "              .replace('Meme', 'Remedios')"
   ]
  },
  {
   "cell_type": "markdown",
   "metadata": {},
   "source": [
    "# Utilities"
   ]
  },
  {
   "cell_type": "code",
   "execution_count": 319,
   "metadata": {
    "collapsed": false
   },
   "outputs": [],
   "source": [
    "def flatten(lst):\n",
    "    return [item for sublist in lst for item in sublist]"
   ]
  },
  {
   "cell_type": "markdown",
   "metadata": {},
   "source": [
    "## Text Processing Functions"
   ]
  },
  {
   "cell_type": "code",
   "execution_count": 320,
   "metadata": {
    "collapsed": false
   },
   "outputs": [],
   "source": [
    "def clean_text(text, language):\n",
    "    stemmer = SnowballStemmer(language)\n",
    "\n",
    "    # Remove punctuation\n",
    "    text = ''.join([char for char in text if char not in string.punctuation])\n",
    "        \n",
    "    # Tokenize, remove stopwords and stem\n",
    "    words = [stemmer.stem(token.lower()) for token in text.split() \n",
    "                     if token.lower() not in ENGLISH_STOP_WORDS]\n",
    "    return words\n",
    "\n",
    "def split_words(chapters, language):\n",
    "    \"\"\"\n",
    "    >>> split_words(['happy birthday', 'to you special one'], 'english')\n",
    "    [['happi', 'birthday'], ['special']]\n",
    "    >>> split_words(['feliz cumpleaños', 'querido Diego'], 'spanish')\n",
    "    [['feliz', 'cumpleañ'], ['quer', 'dieg']]\n",
    "    \"\"\"\n",
    "    return [clean_text(chapter, language) for chapter in chapters]"
   ]
  },
  {
   "cell_type": "markdown",
   "metadata": {},
   "source": [
    "# Character Appearances"
   ]
  },
  {
   "cell_type": "markdown",
   "metadata": {},
   "source": [
    "## Plotting Character Keywords over Time"
   ]
  },
  {
   "cell_type": "code",
   "execution_count": 321,
   "metadata": {
    "collapsed": false
   },
   "outputs": [],
   "source": [
    "def periodicity(vector):\n",
    "    \"\"\"\n",
    "    Return the periodicity of a vector.\n",
    "    Note that a period of inf means aperiodic.\n",
    "    \n",
    "    Source: http://stackoverflow.com/questions/11205037/detect-period-of-unknown-source\n",
    "    \"\"\"\n",
    "    # FFT converts appearance trend in time-domain to frequency domain\n",
    "    # np.fft.fft has the values\n",
    "    char_fft = np.fft.fft(vector)\n",
    "    frequencies = np.fft.fftfreq(len(vector), 1)\n",
    "\n",
    "    # Find the indices with the strongest values\n",
    "    threshold = 10 **2\n",
    "    candidates = np.where(abs(char_fft) > threshold)\n",
    "    if len(candidates[0]) == 0:\n",
    "        return np.inf\n",
    "    index = candidates[0][-1]\n",
    "\n",
    "    # period is 1 / frequency\n",
    "    return (1 / abs(frequencies[index]))\n",
    "\n",
    "class Text:\n",
    "    \"\"\"\n",
    "    The text should already be cleaned and tokenized.\n",
    "    \n",
    "    words - the text as a list of words\n",
    "    \"\"\"\n",
    "    def __init__(self, text, lang, text_fn):\n",
    "        self.text = text\n",
    "        self.lang = lang\n",
    "        self.process_text(text_fn)\n",
    "        \n",
    "    def process_text(self, text_fn):\n",
    "        self.text = text_fn(self.text)\n",
    "        self.words = clean_text(self.text, self.lang)\n",
    "        \n",
    "    def appearances(self, char_name, bin_size, normalize=False):\n",
    "        \"\"\"\n",
    "        An array of the counts of a particular word. Only one-word character names supported for now.\n",
    "        \"\"\"\n",
    "        index_bin_start = 0\n",
    "        values = []\n",
    "        while index_bin_start < len(self.words):\n",
    "            section_total = 0\n",
    "            for index_in_bin in range(bin_size):\n",
    "                if index_bin_start + index_in_bin >= len(self.words):\n",
    "                    break\n",
    "                if isinstance(char_name, list) and self.words[index_bin_start + index_in_bin] in char_name\\\n",
    "                    or self.words[index_bin_start + index_in_bin] == char_name:\n",
    "                    section_total += 1\n",
    "            index_bin_start += bin_size\n",
    "            values.append(section_total)\n",
    "        return np.array(values) / max(values) if normalize else np.array(values)\n",
    "\n",
    "    def plot_char_appearances(self, names, normalize=True, bin_size=1000):\n",
    "        \"\"\"\n",
    "        If the text contains \"Chapter\", gray lines representing where \"Chapter\" appears will be drawn in the plot.\n",
    "        \"\"\"\n",
    "        appearances_tb = Table()\n",
    "        for name in names:\n",
    "            name_label = ', '.join(name) if isinstance(name, list) else name\n",
    "            appearances_tb.append_column(name_label, self.appearances(name, bin_size, normalize))\n",
    "\n",
    "        plt.figure(figsize=(10, 5))\n",
    "        for i in range(len(names)):\n",
    "            plt.plot(np.arange(len(appearances_tb.column(0))), appearances_tb.column(i), label=names[i])\n",
    "        plt.legend()\n",
    "\n",
    "        # Add chapter lines\n",
    "        for index, elem in enumerate(self.words):\n",
    "            if elem == 'chapter':\n",
    "                plt.axvline(index // bin_size, color='lightgray')\n",
    "                \n",
    "    def gather_char_data(self, names):\n",
    "        \"\"\"\n",
    "        There should be at least 10 time points for something meaningful, and at least 500 words per bin.\n",
    "        This will have to be changed depending on the overall length of the text.\n",
    "        \"\"\"\n",
    "        char_signals_tb = Table(['Name', 'Bin Size', 'Appearances', 'Periodicity', 'Peaks'])\n",
    "        bin_size = 500\n",
    "        text_len = len(self.words)\n",
    "        num_bins = text_len // bin_size\n",
    "        while num_bins > 10:\n",
    "            for name in names:\n",
    "                char_appearances = self.appearances(name, bin_size)\n",
    "                char_period = periodicity(char_appearances) * bin_size\n",
    "                \n",
    "                # Widest peak will cover at most num_bins // 5 = 20% of the bins\n",
    "                peaks = set(signal.find_peaks_cwt(char_appearances, np.arange(1, num_bins // 5)))\n",
    "                \n",
    "                # {0: char_appearances} is a hacky way to get around datascience bug\n",
    "                name_label = ', '.join(name) if isinstance(name, list) else name\n",
    "                char_signals_tb.append([name_label, bin_size, {0: char_appearances}, char_period, peaks])\n",
    "            bin_size += 500\n",
    "            num_bins = text_len // bin_size\n",
    "            \n",
    "        return char_signals_tb"
   ]
  },
  {
   "cell_type": "code",
   "execution_count": 322,
   "metadata": {
    "collapsed": false
   },
   "outputs": [],
   "source": [
    "# Create a text object\n",
    "hundred_years = Text(hundred_years_text, 'english', hundred_years_processing)"
   ]
  },
  {
   "cell_type": "code",
   "execution_count": 323,
   "metadata": {
    "collapsed": false
   },
   "outputs": [
    {
     "data": {
      "text/plain": [
       "[4, 11, 12, 17, 23, 27]"
      ]
     },
     "execution_count": 323,
     "metadata": {},
     "output_type": "execute_result"
    }
   ],
   "source": [
    "# Example for finding peaks\n",
    "aureliano_appearances = hundred_years.appearances('aureliano', 2000)\n",
    "signal.find_peaks_cwt(aureliano_appearances, np.arange(1, 6))"
   ]
  },
  {
   "cell_type": "code",
   "execution_count": 324,
   "metadata": {
    "collapsed": false
   },
   "outputs": [
    {
     "data": {
      "text/plain": [
       "12400.0"
      ]
     },
     "execution_count": 324,
     "metadata": {},
     "output_type": "execute_result"
    }
   ],
   "source": [
    "# Example for finding period\n",
    "arcadio_appearances = hundred_years.appearances('arcadio', 2000)\n",
    "periodicity(arcadio_appearances) * 2000"
   ]
  },
  {
   "cell_type": "code",
   "execution_count": 325,
   "metadata": {
    "collapsed": false
   },
   "outputs": [
    {
     "data": {
      "image/png": "[encoded data removed]",
      "text/plain": [
       "<matplotlib.figure.Figure at 0x114d8e358>"
      ]
     },
     "metadata": {},
     "output_type": "display_data"
    },
    {
     "data": {
      "image/png": "[encoded data removed]",
      "text/plain": [
       "<matplotlib.figure.Figure at 0x114d7fe10>"
      ]
     },
     "metadata": {},
     "output_type": "display_data"
    }
   ],
   "source": [
    "# Example of plotting character appearances\n",
    "hundred_years.plot_char_appearances(['aureliano', 'arcadio'], normalize=True, bin_size=2000)\n",
    "hundred_years.plot_char_appearances(['aureliano', 'arcadio'], normalize=True, bin_size=3000)"
   ]
  },
  {
   "cell_type": "code",
   "execution_count": 326,
   "metadata": {
    "collapsed": false
   },
   "outputs": [
    {
     "data": {
      "image/png": "[encoded data removed]",
      "text/plain": [
       "<matplotlib.figure.Figure at 0x1152ba080>"
      ]
     },
     "metadata": {},
     "output_type": "display_data"
    }
   ],
   "source": [
    "hundred_years.plot_char_appearances(['banana', 'war'], bin_size=3000)\n",
    "# What a striking plot!"
   ]
  },
  {
   "cell_type": "code",
   "execution_count": 327,
   "metadata": {
    "collapsed": false
   },
   "outputs": [
    {
     "data": {
      "image/png": "[encoded data removed]",
      "text/plain": [
       "<matplotlib.figure.Figure at 0x10e824c88>"
      ]
     },
     "metadata": {},
     "output_type": "display_data"
    }
   ],
   "source": [
    "hundred_years.plot_char_appearances(['pietro', 'gaston'], bin_size=3000)\n",
    "# There is some symmetry in this plot as well"
   ]
  },
  {
   "cell_type": "code",
   "execution_count": 328,
   "metadata": {
    "collapsed": false
   },
   "outputs": [
    {
     "data": {
      "image/png": "[encoded data removed]",
      "text/plain": [
       "<matplotlib.figure.Figure at 0x1144f97f0>"
      ]
     },
     "metadata": {},
     "output_type": "display_data"
    }
   ],
   "source": [
    "hundred_years.plot_char_appearances(['remedio', 'rain'], bin_size=1000, normalize=False)\n",
    "# How significant is this plot?"
   ]
  },
  {
   "cell_type": "markdown",
   "metadata": {},
   "source": [
    "# Computed Statistics"
   ]
  },
  {
   "cell_type": "code",
   "execution_count": 329,
   "metadata": {
    "collapsed": false
   },
   "outputs": [
    {
     "data": {
      "text/html": [
       "<table border=\"1\" class=\"dataframe\">\n",
       "    <thead>\n",
       "        <tr>\n",
       "            <th>Name</th> <th>Bin Size</th> <th>Appearances</th> <th>Periodicity</th> <th>Peaks</th>\n",
       "        </tr>\n",
       "    </thead>\n",
       "    <tbody>\n",
       "        <tr>\n",
       "            <td>aureliano     </td> <td>500     </td> <td>[ 1  1  1  1  3  1  2  1  3  1  4  5  3  3  3  8  1  3   ...</td> <td>30750      </td> <td>{120, 91, 20, 46, 68}             </td>\n",
       "        </tr>\n",
       "    </tbody>\n",
       "        <tr>\n",
       "            <td>arcadio       </td> <td>500     </td> <td>[ 1  1  0  0  1  1  0  4  6 14  3  4  2  0  1  1  1  1   ...</td> <td>12300      </td> <td>{9, 34, 75, 101, 57}              </td>\n",
       "        </tr>\n",
       "    </tbody>\n",
       "        <tr>\n",
       "            <td>úrsula        </td> <td>500     </td> <td>[ 2  6  6  6  5  8  6  5  6  4 11  5  7  1  4  2  3  4   ...</td> <td>inf        </td> <td>{100, 36, 6, 74, 44, 112, 55, 120}</td>\n",
       "        </tr>\n",
       "    </tbody>\n",
       "        <tr>\n",
       "            <td>remedio       </td> <td>500     </td> <td>[ 0  0  0  0  0  0  0  0  0  0  0  0  0  0  0  0  1  1   ...</td> <td>inf        </td> <td>{59, 20, 84}                      </td>\n",
       "        </tr>\n",
       "    </tbody>\n",
       "        <tr>\n",
       "            <td>amaranta      </td> <td>500     </td> <td>[ 0  0  0  0  0  0  0  0  1  0  6  1  2  0  1  2  0  3   ...</td> <td>inf        </td> <td>{120, 82, 35, 44}                 </td>\n",
       "        </tr>\n",
       "    </tbody>\n",
       "        <tr>\n",
       "            <td>rebeca        </td> <td>500     </td> <td>[ 0  0  0  0  0  0  0  0  0  0  0  2 10  1  1  2  0  3   ...</td> <td>inf        </td> <td>{65, 25, 83}                      </td>\n",
       "        </tr>\n",
       "    </tbody>\n",
       "        <tr>\n",
       "            <td>melquíad      </td> <td>500     </td> <td>[7 6 5 0 4 1 0 1 1 0 0 2 0 0 5 2 0 1 1 2 1 7 3 2 0 0 0 0 ...</td> <td>inf        </td> <td>{64, 2, 106, 21, 55, 92}          </td>\n",
       "        </tr>\n",
       "    </tbody>\n",
       "        <tr>\n",
       "            <td>pilar         </td> <td>500     </td> <td>[0 0 0 0 0 0 0 1 4 2 2 0 0 1 0 0 1 1 1 4 1 0 7 0 0 1 0 0 ...</td> <td>inf        </td> <td>{9, 117, 19, 85, 45}              </td>\n",
       "        </tr>\n",
       "    </tbody>\n",
       "        <tr>\n",
       "            <td>pietro, gaston</td> <td>500     </td> <td>[ 0  0  0  0  0  0  0  0  0  0  0  0  0  0  0  0  0  4   ...</td> <td>inf        </td> <td>{82, 115}                         </td>\n",
       "        </tr>\n",
       "    </tbody>\n",
       "        <tr>\n",
       "            <td>rain          </td> <td>500     </td> <td>[ 0  0  0  0  1  0  2  0  0  0  0  0  0  0  0  0  0  0   ...</td> <td>inf        </td> <td>{32, 94, 6}                       </td>\n",
       "        </tr>\n",
       "    </tbody>\n",
       "        <tr>\n",
       "            <td>banana, war   </td> <td>500     </td> <td>[ 2  1  0  0  0  0  1  0  0  0  0  0  0  1  0  0  1  0   ...</td> <td>inf        </td> <td>{1, 73, 49, 118, 89, 30}          </td>\n",
       "        </tr>\n",
       "    </tbody>\n",
       "        <tr>\n",
       "            <td>aureliano     </td> <td>1000    </td> <td>[ 2  2  4  3  4  9  6 11  4 18  9 15  5  5 18 13  5  5 1 ...</td> <td>31000      </td> <td>{9, 58, 23}                       </td>\n",
       "        </tr>\n",
       "    </tbody>\n",
       "        <tr>\n",
       "            <td>arcadio       </td> <td>1000    </td> <td>[ 2  0  2  4 20  7  2  2  2  2  5  3  0 16  3 17 19 33   ...</td> <td>12400      </td> <td>{17, 51, 4, 29}                   </td>\n",
       "        </tr>\n",
       "    </tbody>\n",
       "        <tr>\n",
       "            <td>úrsula        </td> <td>1000    </td> <td>[ 8 12 13 11 10 16  8  6  7  5 10  5  6  7  5  8 10  9 1 ...</td> <td>inf        </td> <td>{4, 37, 50, 22, 57, 60}           </td>\n",
       "        </tr>\n",
       "    </tbody>\n",
       "        <tr>\n",
       "            <td>remedio       </td> <td>1000    </td> <td>[ 0  0  0  0  0  0  0  0  2 15  5  5  6  3  1  0  1  2   ...</td> <td>inf        </td> <td>{10, 11, 42, 30}                  </td>\n",
       "        </tr>\n",
       "    </tbody>\n",
       "        <tr>\n",
       "            <td>amaranta      </td> <td>1000    </td> <td>[ 0  0  0  0  1  7  2  3  3  6  9  3 11  6  3  5 12  3   ...</td> <td>inf        </td> <td>{40, 17, 11, 22, 59}              </td>\n",
       "        </tr>\n",
       "    </tbody>\n",
       "        <tr>\n",
       "            <td>rebeca        </td> <td>1000    </td> <td>[ 0  0  0  0  0  2 11  3  3 12  8  8 18 11  3  1  8  2   ...</td> <td>inf        </td> <td>{41, 11}                          </td>\n",
       "        </tr>\n",
       "    </tbody>\n",
       "        <tr>\n",
       "            <td>melquíad      </td> <td>1000    </td> <td>[13  5  5  1  1  2  0  7  1  3  8  5  0  0  0  1  3  1   ...</td> <td>inf        </td> <td>{1, 4, 10, 46, 53, 28}            </td>\n",
       "        </tr>\n",
       "    </tbody>\n",
       "        <tr>\n",
       "            <td>pilar         </td> <td>1000    </td> <td>[0 0 0 1 6 2 1 0 2 5 1 7 1 0 0 0 6 0 0 0 2 1 4 1 0 1 1 1 ...</td> <td>inf        </td> <td>{9, 42, 59, 41}                   </td>\n",
       "        </tr>\n",
       "    </tbody>\n",
       "        <tr>\n",
       "            <td>pietro, gaston</td> <td>1000    </td> <td>[ 0  0  0  0  0  0  0  0  4  3  6  4  5  8  5  2 14  0   ...</td> <td>inf        </td> <td>{40, 58, 14}                      </td>\n",
       "        </tr>\n",
       "    </tbody>\n",
       "        <tr>\n",
       "            <td>rain          </td> <td>1000    </td> <td>[ 0  0  1  2  0  0  0  0  0  0  0  3  0  0  0  2  1  2   ...</td> <td>inf        </td> <td>{16, 2, 3, 34, 47}                </td>\n",
       "        </tr>\n",
       "    </tbody>\n",
       "        <tr>\n",
       "            <td>banana, war   </td> <td>1000    </td> <td>[ 3  0  0  1  0  0  1  0  1  0  0  1  0  0  6  9  4  2   ...</td> <td>inf        </td> <td>{1, 36, 46, 15, 52, 24, 59}       </td>\n",
       "        </tr>\n",
       "    </tbody>\n",
       "        <tr>\n",
       "            <td>aureliano     </td> <td>1500    </td> <td>[ 3  5  6 10  9 12 23 19  9 19 15  8 25 21 29 37 27 26 1 ...</td> <td>30750      </td> <td>{38, 6, 7, 16, 23, 30}            </td>\n",
       "        </tr>\n",
       "    </tbody>\n",
       "        <tr>\n",
       "            <td>arcadio       </td> <td>1500    </td> <td>[ 2  2 10 21  3  3  2  8  4 15 20 49 10  6  1  6  0  5 3 ...</td> <td>12300      </td> <td>{11, 26, 2, 3, 34}                </td>\n",
       "        </tr>\n",
       "    </tbody>\n",
       "        <tr>\n",
       "            <td>úrsula        </td> <td>1500    </td> <td>[14 19 17 20 12  9 12  8 10  8 16 11 20 18 12 22  6 19 2 ...</td> <td>inf        </td> <td>{33, 3, 37, 13, 15, 18, 25}       </td>\n",
       "        </tr>\n",
       "    </tbody>\n",
       "        <tr>\n",
       "            <td>remedio       </td> <td>1500    </td> <td>[ 0  0  0  0  0  2 20  5  9  1  1  2  2  2  3  0  4  5   ...</td> <td>inf        </td> <td>{27, 28, 37, 7}                   </td>\n",
       "        </tr>\n",
       "    </tbody>\n",
       "        <tr>\n",
       "            <td>amaranta      </td> <td>1500    </td> <td>[ 0  0  1  7  3  5 10  8 15  5 16  4  5 12 21  5 10  2   ...</td> <td>inf        </td> <td>{34, 39, 8, 11, 14, 26, 27}       </td>\n",
       "        </tr>\n",
       "    </tbody>\n",
       "        <tr>\n",
       "            <td>rebeca        </td> <td>1500    </td> <td>[ 0  0  0  2 12  5 16 12 22 10  4  7  4  6  0  3  1  0   ...</td> <td>inf        </td> <td>{8, 27}                           </td>\n",
       "        </tr>\n",
       "    </tbody>\n",
       "        <tr>\n",
       "            <td>melquíad      </td> <td>1500    </td> <td>[18  5  2  2  5  3  4 12  0  0  2  3  0  0  1  1  0  0   ...</td> <td>inf        </td> <td>{1, 2, 19, 36, 7}                 </td>\n",
       "        </tr>\n",
       "    </tbody>\n",
       "        <tr>\n",
       "            <td>pilar         </td> <td>1500    </td> <td>[0 0 5 4 1 2 6 7 1 0 0 6 0 2 1 5 0 2 2 0 0 0 0 0 2 1 0 1 ...</td> <td>inf        </td> <td>{34, 3, 6, 7, 39, 16, 28}         </td>\n",
       "        </tr>\n",
       "    </tbody>\n",
       "        <tr>\n",
       "            <td>pietro, gaston</td> <td>1500    </td> <td>[ 0  0  0  0  0  4  6  7  6 12 14  2  2  2  1  2  0  1   ...</td> <td>inf        </td> <td>{9, 10, 27, 38}                   </td>\n",
       "        </tr>\n",
       "    </tbody>\n",
       "        <tr>\n",
       "            <td>rain          </td> <td>1500    </td> <td>[ 0  1  2  0  0  0  0  3  0  0  3  2  1  1  1  0  2  3   ...</td> <td>inf        </td> <td>{32, 17, 2, 11, 23}               </td>\n",
       "        </tr>\n",
       "    </tbody>\n",
       "        <tr>\n",
       "            <td>banana, war   </td> <td>1500    </td> <td>[ 3  0  1  0  1  1  0  1  0  6 11  4  6  8 17  7 24 12   ...</td> <td>inf        </td> <td>{39, 10, 15, 16, 24, 30}          </td>\n",
       "        </tr>\n",
       "    </tbody>\n",
       "        <tr>\n",
       "            <td>aureliano     </td> <td>2000    </td> <td>[ 4  7 13 17 22 24 10 31 10 32 34 46 33 34 18  7 29 26   ...</td> <td>31000      </td> <td>{4, 11, 12, 17, 23, 27}           </td>\n",
       "        </tr>\n",
       "    </tbody>\n",
       "        <tr>\n",
       "            <td>arcadio       </td> <td>2000    </td> <td>[ 2  6 27  4  4  8 16 20 52 16  0  7  2 19 22 25  7  4 2 ...</td> <td>12400      </td> <td>{2, 7, 8, 15, 19, 24, 25}         </td>\n",
       "        </tr>\n",
       "    </tbody>\n",
       "        <tr>\n",
       "            <td>úrsula        </td> <td>2000    </td> <td>[20 24 26 14 12 15 13 13 19 23 23 26 14 25 19 10  9 11 2 ...</td> <td>inf        </td> <td>{19, 27, 2, 11}                   </td>\n",
       "        </tr>\n",
       "    </tbody>\n",
       "        <tr>\n",
       "            <td>remedio       </td> <td>2000    </td> <td>[ 0  0  0  0 17 10  9  1  3  2  2  3  8  1 14  5  3 24   ...</td> <td>inf        </td> <td>{28, 20, 21, 4, 5}                </td>\n",
       "        </tr>\n",
       "    </tbody>\n",
       "        <tr>\n",
       "            <td>amaranta      </td> <td>2000    </td> <td>[ 0  0  8  5  9 12 17  8 15  7 20 16 11  3  5  2  8  7 1 ...</td> <td>inf        </td> <td>{11, 20, 29, 6, 7}                </td>\n",
       "        </tr>\n",
       "    </tbody>\n",
       "        <tr>\n",
       "            <td>rebeca        </td> <td>2000    </td> <td>[ 0  0  2 14 15 16 29  4 10 10  0  3  1  0  0  0  8  0   ...</td> <td>inf        </td> <td>{20, 5, 6}                        </td>\n",
       "        </tr>\n",
       "    </tbody>\n",
       "        <tr>\n",
       "            <td>melquíad      </td> <td>2000    </td> <td>[18  6  3  7  4 13  0  1  4  0  1  1  0  8  0  1  0  1   ...</td> <td>inf        </td> <td>{1, 2, 5, 14, 19, 26, 27}         </td>\n",
       "        </tr>\n",
       "    </tbody>\n",
       "        <tr>\n",
       "            <td>pilar         </td> <td>2000    </td> <td>[0 1 8 1 7 8 1 0 6 0 3 5 1 2 1 0 0 0 2 1 1 4 0 0 1 2 0 0 ...</td> <td>inf        </td> <td>{29, 11, 4, 21}                   </td>\n",
       "        </tr>\n",
       "    </tbody>\n",
       "        <tr>\n",
       "            <td>pietro, gaston</td> <td>2000    </td> <td>[ 0  0  0  0  7 10 13  7 14  2  3  2  0  1  1  0  1  0   ...</td> <td>inf        </td> <td>{29, 20, 28, 7}                   </td>\n",
       "        </tr>\n",
       "    </tbody>\n",
       "        <tr>\n",
       "            <td>rain          </td> <td>2000    </td> <td>[ 0  3  0  0  0  3  0  2  3  1  2  0  3  2  2  1  2  2   ...</td> <td>inf        </td> <td>{8, 1, 24, 23}                    </td>\n",
       "        </tr>\n",
       "    </tbody>\n",
       "        <tr>\n",
       "            <td>banana, war   </td> <td>2000    </td> <td>[ 3  1  0  1  1  1  0 15  6  7 20 11 29  9 11  3 11  8 1 ...</td> <td>inf        </td> <td>{18, 11}                          </td>\n",
       "        </tr>\n",
       "    </tbody>\n",
       "        <tr>\n",
       "            <td>aureliano     </td> <td>2500    </td> <td>[ 7  8 18 30 25 27 23 32 43 54 43 25 16 24 30 15  8 20 3 ...</td> <td>31250      </td> <td>{3, 4, 9, 10, 14, 18, 22, 23}     </td>\n",
       "        </tr>\n",
       "    </tbody>\n",
       "        <tr>\n",
       "            <td>arcadio       </td> <td>2500    </td> <td>[ 3 25 10  5  8 19 54 31  1  6 17 26 27  6 18 24 22 11 2 ...</td> <td>12500      </td> <td>{2, 6, 7, 12, 16, 19, 20, 22}     </td>\n",
       "        </tr>\n",
       "    </tbody>\n",
       "        <tr>\n",
       "            <td>úrsula        </td> <td>2500    </td> <td>[25 29 28 14 16 17 20 30 27 25 32 23 15 11 27 12 14  9 1 ...</td> <td>inf        </td> <td>{1, 2, 8, 9, 11, 15, 20, 22, 23}  </td>\n",
       "        </tr>\n",
       "    </tbody>\n",
       "        <tr>\n",
       "            <td>remedio       </td> <td>2500    </td> <td>[ 0  0  0 17 10 10  1  4  5  3  6 14  6 17 14 13 44 30   ...</td> <td>inf        </td> <td>{16, 17, 11, 4, 22}               </td>\n",
       "        </tr>\n",
       "    </tbody>\n",
       "        <tr>\n",
       "            <td>amaranta      </td> <td>2500    </td> <td>[ 0  1 10 11 14 18 17 10 31 12  6  6  6  6 19 12 32  4   ...</td> <td>inf        </td> <td>{3, 5, 6, 8, 9, 15, 16, 23}       </td>\n",
       "        </tr>\n",
       "    </tbody>\n",
       "        <tr>\n",
       "            <td>rebeca        </td> <td>2500    </td> <td>[ 0  0 14 17 20 28  9 12  0  4  0  0  0  8  4  0 10  0   ...</td> <td>inf        </td> <td>{3, 4, 5, 14, 15, 17, 21}         </td>\n",
       "        </tr>\n",
       "    </tbody>\n",
       "        <tr>\n",
       "            <td>melquíad      </td> <td>2500    </td> <td>[22  3  7  6 13  0  4  1  1  1  6  2  1  0  1  2  0  0   ...</td> <td>inf        </td> <td>{1, 4, 11, 15, 21, 22}            </td>\n",
       "        </tr>\n",
       "    </tbody>\n",
       "        <tr>\n",
       "            <td>pilar         </td> <td>2500    </td> <td>[0 7 3 7 8 1 6 0 3 5 2 2 0 0 2 1 1 4 0 1 2 0 1 5 2]         </td> <td>inf        </td> <td>{2, 3, 4, 15, 17, 23}             </td>\n",
       "        </tr>\n",
       "    </tbody>\n",
       "        <tr>\n",
       "            <td>pietro, gaston</td> <td>2500    </td> <td>[ 0  0  0  7 11 17 16  2  3  2  1  1  1  0  1  1  3  0   ...</td> <td>inf        </td> <td>{16, 23, 5, 6, 15}                </td>\n",
       "        </tr>\n",
       "    </tbody>\n",
       "        <tr>\n",
       "            <td>rain          </td> <td>2500    </td> <td>[ 1  2  0  0  3  0  4  2  2  2  3  2  1  4  1  3  0  0 3 ...</td> <td>inf        </td> <td>{1, 7, 10, 14, 18, 19}            </td>\n",
       "        </tr>\n",
       "    </tbody>\n",
       "        <tr>\n",
       "            <td>banana, war   </td> <td>2500    </td> <td>[ 3  1  1  1  1  6 15  7 24 23 21 12  7  9 19  8  4 15 1 ...</td> <td>inf        </td> <td>{1, 18, 14, 6, 9}                 </td>\n",
       "        </tr>\n",
       "    </tbody>\n",
       "        <tr>\n",
       "            <td>aureliano     </td> <td>3000    </td> <td>[ 8 16 21 42 28 23 46 66 53 32 29 33 17 13 21 38 21 48 3 ...</td> <td>31500      </td> <td>{8, 19, 18, 3, 7}                 </td>\n",
       "        </tr>\n",
       "    </tbody>\n",
       "        <tr>\n",
       "            <td>arcadio       </td> <td>3000    </td> <td>[ 4 31  6 10 19 69 16  7  5 38 28  8 37 22 13 27 34 27 2 ...</td> <td>12600      </td> <td>{1, 4, 5, 10, 13, 16, 17}         </td>\n",
       "        </tr>\n",
       "    </tbody>\n",
       "        <tr>\n",
       "            <td>úrsula        </td> <td>3000    </td> <td>[33 37 21 20 18 27 38 34 25 33 19 11 32 17  9 11 36 23 2 ...</td> <td>inf        </td> <td>{1, 2, 7, 9, 13, 17, 18}          </td>\n",
       "        </tr>\n",
       "    </tbody>\n",
       "        <tr>\n",
       "            <td>remedio       </td> <td>3000    </td> <td>[ 0  0  2 25 10  3  4  3  9 14  8 24 12 36 44  0  1  3   ...</td> <td>inf        </td> <td>{9, 3, 4, 13, 14}                 </td>\n",
       "        </tr>\n",
       "    </tbody>\n",
       "        <tr>\n",
       "            <td>amaranta      </td> <td>3000    </td> <td>[ 0  8  8 18 20 20 17 26 12  7 10  7 21 37  4  6  9 12 2 ...</td> <td>inf        </td> <td>{4, 5, 6, 7, 13, 19}              </td>\n",
       "        </tr>\n",
       "    </tbody>\n",
       "        <tr>\n",
       "            <td>rebeca        </td> <td>3000    </td> <td>[ 0  2 17 28 32 11 10  3  1  0  8  0  4 10  0  0  1  0   ...</td> <td>inf        </td> <td>{4, 13}                           </td>\n",
       "        </tr>\n",
       "    </tbody>\n",
       "        <tr>\n",
       "            <td>melquíad      </td> <td>3000    </td> <td>[23  4  8 16  0  5  0  2  0  8  1  1  2  0  0  7  2 13   ...</td> <td>inf        </td> <td>{18, 1, 10, 3, 17}                </td>\n",
       "        </tr>\n",
       "    </tbody>\n",
       "        <tr>\n",
       "            <td>pilar         </td> <td>3000    </td> <td>[ 0  9  3 13  1  6  2  6  2  2  0  0  3  1  4  0  1  2   ...</td> <td>inf        </td> <td>{8, 19, 3, 14}                    </td>\n",
       "        </tr>\n",
       "    </tbody>\n",
       "        <tr>\n",
       "            <td>pietro, gaston</td> <td>3000    </td> <td>[ 0  0  4 13 18 16  4  3  1  1  1  0  2  3  0  0  0  0 1 ...</td> <td>inf        </td> <td>{13, 19, 4, 5}                    </td>\n",
       "        </tr>\n",
       "    </tbody>\n",
       "        <tr>\n",
       "            <td>rain          </td> <td>3000    </td> <td>[ 1  2  0  3  0  5  2  1  5  2  1  4  1  3  0 39 13  1   ...</td> <td>inf        </td> <td>{1, 4, 6, 9, 15, 16}              </td>\n",
       "        </tr>\n",
       "    </tbody>\n",
       "        <tr>\n",
       "            <td>banana, war   </td> <td>3000    </td> <td>[ 3  1  2  1  6 15 14 24 36 13  9 13 17  6 17 11  7  8   ...</td> <td>inf        </td> <td>{8, 1, 15, 7}                     </td>\n",
       "        </tr>\n",
       "    </tbody>\n",
       "        <tr>\n",
       "            <td>aureliano     </td> <td>3500    </td> <td>[10 20 38 29 41 46 75 58 22 36 31 21 32 31 38 52 53 50]     </td> <td>31500      </td> <td>{2, 6, 7, 10, 13, 16}             </td>\n",
       "        </tr>\n",
       "    </tbody>\n",
       "        <tr>\n",
       "            <td>arcadio       </td> <td>3500    </td> <td>[ 4 33  6 24 57 31  7 21 41 14 40 22 13 43 35 33  3  3]     </td> <td>inf        </td> <td>{1, 4, 5, 8, 10, 11, 14}          </td>\n",
       "        </tr>\n",
       "    </tbody>\n",
       "        <tr>\n",
       "            <td>úrsula        </td> <td>3500    </td> <td>[39 39 25 21 25 45 35 38 27 18 30 23 10 20 40 22 22 33]     </td> <td>inf        </td> <td>{1, 6, 7, 11, 14, 16}             </td>\n",
       "        </tr>\n",
       "    </tbody>\n",
       "        <tr>\n",
       "            <td>remedio       </td> <td>3500    </td> <td>[ 0  0 22 14  2  6  6  6 15 22 20 37 44  0  3  4  1  1]     </td> <td>inf        </td> <td>{16, 9, 3, 12, 6}                 </td>\n",
       "        </tr>\n",
       "    </tbody>\n",
       "        <tr>\n",
       "            <td>amaranta      </td> <td>3500    </td> <td>[ 0 10 16 25 20 20 33  7  7 10 24 39  4  7 16 17 22 32]     </td> <td>inf        </td> <td>{11, 3, 5, 6}                     </td>\n",
       "        </tr>\n",
       "    </tbody>\n",
       "        <tr>\n",
       "            <td>rebeca        </td> <td>3500    </td> <td>[ 0 13 22 41 12 12  4  0  0  8  4 10  0  0  1  0  0  1]     </td> <td>inf        </td> <td>{11, 3, 6, 15}                    </td>\n",
       "        </tr>\n",
       "    </tbody>\n",
       "        <tr>\n",
       "            <td>melquíad      </td> <td>3500    </td> <td>[23  4 12 12  4  1  2  8  1  0  1  2  0  7  6 13  4  6]     </td> <td>inf        </td> <td>{11, 2, 3, 15, 7}                 </td>\n",
       "        </tr>\n",
       "    </tbody>\n",
       "        <tr>\n",
       "            <td>pilar         </td> <td>3500    </td> <td>[ 0 10  8  8  6  2  6  3  1  0  2  2  4  1  2  0  6  2]     </td> <td>inf        </td> <td>{2, 3, 12, 7}                     </td>\n",
       "        </tr>\n",
       "    </tbody>\n",
       "        <tr>\n",
       "            <td>pietro, gaston</td> <td>3500    </td> <td>[ 0  0 10 20 21  4  3  1  1  1  2  3  0  0  0  2 23  6]     </td> <td>inf        </td> <td>{11, 4}                           </td>\n",
       "        </tr>\n",
       "    </tbody>\n",
       "        <tr>\n",
       "            <td>rain          </td> <td>3500    </td> <td>[ 3  0  0  3  4  3  3  3  3  4  1  3  0 48  5  0  0  0]     </td> <td>inf        </td> <td>{9, 4, 5, 14}                     </td>\n",
       "        </tr>\n",
       "    </tbody>\n",
       "        <tr>\n",
       "            <td>banana, war   </td> <td>3500    </td> <td>[ 4  1  1  1 21 14 33 29 13 14 22  7 19 15  6  5  8  4]     </td> <td>inf        </td> <td>{1, 10, 13, 7}                    </td>\n",
       "        </tr>\n",
       "    </tbody>\n",
       "        <tr>\n",
       "            <td>aureliano     </td> <td>4000    </td> <td>[11 30 46 41 42 80 67 25 55 23 15 51 35 59 65 38]           </td> <td>32000      </td> <td>{2, 5, 6, 9, 12, 14}              </td>\n",
       "        </tr>\n",
       "    </tbody>\n",
       "        <tr>\n",
       "            <td>arcadio       </td> <td>4000    </td> <td>[ 8 31 12 36 68  7 21 47 11 39 33 27 46 38  3  3]           </td> <td>12800      </td> <td>{1, 4, 7, 10, 12, 13}             </td>\n",
       "        </tr>\n",
       "    </tbody>\n",
       "        <tr>\n",
       "            <td>úrsula        </td> <td>4000    </td> <td>[44 40 27 26 42 49 39 29 20 35 21 13 45 27 32 23]           </td> <td>inf        </td> <td>{1, 5, 6, 10, 13, 14}             </td>\n",
       "        </tr>\n",
       "    </tbody>\n",
       "        <tr>\n",
       "            <td>remedio       </td> <td>4000    </td> <td>[ 0  0 27 10  5  5  9 19 27 18 74  0  3  4  2  0]           </td> <td>inf        </td> <td>{8, 10, 3, 14}                    </td>\n",
       "        </tr>\n",
       "    </tbody>\n",
       "        <tr>\n",
       "            <td>amaranta      </td> <td>4000    </td> <td>[ 0 13 21 25 22 36 14  7 15 26 35  7 14 20 32 22]           </td> <td>inf        </td> <td>{10, 3, 4, 5}                     </td>\n",
       "        </tr>\n",
       "    </tbody>\n",
       "        <tr>\n",
       "            <td>rebeca        </td> <td>4000    </td> <td>[ 0 16 31 33 20  3  1  0  8  4 10  0  1  0  0  1]           </td> <td>inf        </td> <td>{10, 3}                           </td>\n",
       "        </tr>\n",
       "    </tbody>\n",
       "        <tr>\n",
       "            <td>melquíad      </td> <td>4000    </td> <td>[24 10 17  1  4  2  8  1  1  2  0  7  4 15  4  6]           </td> <td>inf        </td> <td>{1, 14, 6, 9}                     </td>\n",
       "        </tr>\n",
       "    </tbody>\n",
       "        <tr>\n",
       "            <td>pilar         </td> <td>4000    </td> <td>[ 1  9 15  1  6  8  3  1  0  3  5  0  3  0  6  2]           </td> <td>inf        </td> <td>{2, 10, 6}                        </td>\n",
       "        </tr>\n",
       "    </tbody>\n",
       "        <tr>\n",
       "            <td>pietro, gaston</td> <td>4000    </td> <td>[ 0  0 17 20 16  5  1  1  1  2  3  0  0  2 28  1]           </td> <td>inf        </td> <td>{10, 3, 4, 14}                    </td>\n",
       "        </tr>\n",
       "    </tbody>\n",
       "        <tr>\n",
       "            <td>rain          </td> <td>4000    </td> <td>[ 3  0  3  2  4  2  5  3  4  4  0 39 14  0  0  0]           </td> <td>inf        </td> <td>{4, 12, 7}                        </td>\n",
       "        </tr>\n",
       "    </tbody>\n",
       "        <tr>\n",
       "            <td>banana, war   </td> <td>4000    </td> <td>[ 4  1  2 15 13 31 38 14 19 21  9 21 12  5  8  4]           </td> <td>inf        </td> <td>{9, 3, 12, 6}                     </td>\n",
       "        </tr>\n",
       "    </tbody>\n",
       "        <tr>\n",
       "            <td>aureliano     </td> <td>4500    </td> <td>[14 31 51 42 75 90 36 58 23 28 48 59 72 56]                 </td> <td>31500      </td> <td>{8, 2, 5}                         </td>\n",
       "        </tr>\n",
       "    </tbody>\n",
       "        <tr>\n",
       "            <td>arcadio       </td> <td>4500    </td> <td>[14 27 14 84 17 11 57 17 47 25 47 41 26  3]                 </td> <td>12600      </td> <td>{11, 1, 3, 7}                     </td>\n",
       "        </tr>\n",
       "    </tbody>\n",
       "        <tr>\n",
       "            <td>úrsula        </td> <td>4500    </td> <td>[50 41 30 35 50 47 41 22 37 21 27 43 32 36]                 </td> <td>inf        </td> <td>{1, 5, 9}                         </td>\n",
       "        </tr>\n",
       "    </tbody>\n",
       "        <tr>\n",
       "            <td>remedio       </td> <td>4500    </td> <td>[ 0  2 34  4  7  9 15 31 29 63  0  4  4  1]                 </td> <td>inf        </td> <td>{9, 2}                            </td>\n",
       "        </tr>\n",
       "    </tbody>\n",
       "        <tr>\n",
       "            <td>amaranta      </td> <td>4500    </td> <td>[ 1 15 33 25 38 17  9 15 30 32  8 19 32 35]                 </td> <td>inf        </td> <td>{9, 4}                            </td>\n",
       "        </tr>\n",
       "    </tbody>\n",
       "        <tr>\n",
       "            <td>rebeca        </td> <td>4500    </td> <td>[ 0 19 50 21 10  4  0  8  4 10  0  1  0  1]                 </td> <td>inf        </td> <td>{9, 2}                            </td>\n",
       "        </tr>\n",
       "    </tbody>\n",
       "        <tr>\n",
       "            <td>melquíad      </td> <td>4500    </td> <td>[25 10 16  5  1  1  9  1  2  0  8 14  7  7]                 </td> <td>inf        </td> <td>{1, 11, 7}                        </td>\n",
       "        </tr>\n",
       "    </tbody>\n",
       "        <tr>\n",
       "            <td>pilar         </td> <td>4500    </td> <td>[ 5  7 14  6  3  7  2  0  3  5  1  2  4  4]                 </td> <td>inf        </td> <td>{9, 2, 6}                         </td>\n",
       "        </tr>\n",
       "    </tbody>\n",
       "        <tr>\n",
       "            <td>pietro, gaston</td> <td>4500    </td> <td>[ 0  4 19 28  5  3  1  1  2  3  0  0 23  8]                 </td> <td>inf        </td> <td>{9, 3}                            </td>\n",
       "        </tr>\n",
       "    </tbody>\n",
       "        <tr>\n",
       "            <td>rain          </td> <td>4500    </td> <td>[ 3  0  3  5  3  5  3  4  4  0 50  3  0  0]                 </td> <td>inf        </td> <td>{11, 3}                           </td>\n",
       "        </tr>\n",
       "    </tbody>\n",
       "        <tr>\n",
       "            <td>banana, war   </td> <td>4500    </td> <td>[ 4  2  1 21 31 43 15 20 22 18 17  9  7  7]                 </td> <td>inf        </td> <td>{9, 5}                            </td>\n",
       "        </tr>\n",
       "    </tbody>\n",
       "        <tr>\n",
       "            <td>aureliano     </td> <td>5000    </td> <td>[15 48 52 55 97 68 40 45 28 49 65 83 38]                    </td> <td>32500      </td> <td>{2, 11, 5}                        </td>\n",
       "        </tr>\n",
       "    </tbody>\n",
       "        <tr>\n",
       "            <td>arcadio       </td> <td>5000    </td> <td>[28 15 27 85  7 43 33 42 33 54 44 16  3]                    </td> <td>inf        </td> <td>{10, 3, 7}                        </td>\n",
       "        </tr>\n",
       "    </tbody>\n",
       "        <tr>\n",
       "            <td>úrsula        </td> <td>5000    </td> <td>[54 42 33 50 52 55 26 39 23 31 44 40 23]                    </td> <td>inf        </td> <td>{8, 1, 11, 5}                     </td>\n",
       "        </tr>\n",
       "    </tbody>\n",
       "        <tr>\n",
       "            <td>remedio       </td> <td>5000    </td> <td>[ 0 17 20  5  8 20 23 27 74  0  5  4  0]                    </td> <td>inf        </td> <td>{8, 2, 6}                         </td>\n",
       "        </tr>\n",
       "    </tbody>\n",
       "        <tr>\n",
       "            <td>amaranta      </td> <td>5000    </td> <td>[ 1 21 32 27 43 12 12 31 36  9 24 39 22]                    </td> <td>inf        </td> <td>{8, 2, 4}                         </td>\n",
       "        </tr>\n",
       "    </tbody>\n",
       "        <tr>\n",
       "            <td>rebeca        </td> <td>5000    </td> <td>[ 0 31 48 21  4  0  8  4 10  0  1  0  1]                    </td> <td>inf        </td> <td>{8, 2}                            </td>\n",
       "        </tr>\n",
       "    </tbody>\n",
       "        <tr>\n",
       "            <td>melquíad      </td> <td>5000    </td> <td>[25 13 13  5  2  8  1  3  0  8 16  6  6]                    </td> <td>inf        </td> <td>{1, 10, 6}                        </td>\n",
       "        </tr>\n",
       "    </tbody>\n",
       "        <tr>\n",
       "            <td>pilar         </td> <td>5000    </td> <td>[ 7 10  9  6  8  4  0  3  5  1  2  6  2]                    </td> <td>inf        </td> <td>{8, 1, 5}                         </td>\n",
       "        </tr>\n",
       "    </tbody>\n",
       "        <tr>\n",
       "            <td>pietro, gaston</td> <td>5000    </td> <td>[ 0  7 28 18  5  2  1  2  3  0  1 29  1]                    </td> <td>inf        </td> <td>{8, 3}                            </td>\n",
       "        </tr>\n",
       "    </tbody>\n",
       "        <tr>\n",
       "            <td>rain          </td> <td>5000    </td> <td>[ 3  0  3  6  4  5  5  4  0 52  1  0  0]                    </td> <td>inf        </td> <td>{10, 3, 6}                        </td>\n",
       "        </tr>\n",
       "    </tbody>\n",
       "        <tr>\n",
       "            <td>banana, war   </td> <td>5000    </td> <td>[ 4  2  7 22 47 33 16 27 19 17 11  8  4]                    </td> <td>inf        </td> <td>{8, 5}                            </td>\n",
       "        </tr>\n",
       "    </tbody>\n",
       "        <tr>\n",
       "            <td>aureliano     </td> <td>5500    </td> <td>[ 19  53  58  74 106  54  42  29  61  66  98  23]           </td> <td>33000      </td> <td>{2, 10, 4}                        </td>\n",
       "        </tr>\n",
       "    </tbody>\n",
       "        <tr>\n",
       "            <td>arcadio       </td> <td>5500    </td> <td>[31 17 42 65 24 54 45 35 47 51 16  3]                       </td> <td>inf        </td> <td>{9, 3, 6}                         </td>\n",
       "        </tr>\n",
       "    </tbody>\n",
       "        <tr>\n",
       "            <td>úrsula        </td> <td>5500    </td> <td>[65 41 39 57 61 42 37 30 29 48 51 12]                       </td> <td>inf        </td> <td>{1, 10, 4}                        </td>\n",
       "        </tr>\n",
       "    </tbody>\n",
       "        <tr>\n",
       "            <td>remedio       </td> <td>5500    </td> <td>[ 0 22 16  6 12 22 35 81  0  5  4  0]                       </td> <td>66000      </td> <td>{2, 7}                            </td>\n",
       "        </tr>\n",
       "    </tbody>\n",
       "        <tr>\n",
       "            <td>amaranta      </td> <td>5500    </td> <td>[ 7 24 39 31 29 16 26 42  9 25 50 11]                       </td> <td>inf        </td> <td>{2, 10, 7}                        </td>\n",
       "        </tr>\n",
       "    </tbody>\n",
       "        <tr>\n",
       "            <td>rebeca        </td> <td>5500    </td> <td>[ 0 39 44 17  4  8  4 10  0  1  0  1]                       </td> <td>inf        </td> <td>{2, 7}                            </td>\n",
       "        </tr>\n",
       "    </tbody>\n",
       "        <tr>\n",
       "            <td>melquíad      </td> <td>5500    </td> <td>[25 21  7  4  7  3  1  2  8 16  7  5]                       </td> <td>inf        </td> <td>{1, 5, 9}                         </td>\n",
       "        </tr>\n",
       "    </tbody>\n",
       "        <tr>\n",
       "            <td>pilar         </td> <td>5500    </td> <td>[9 9 8 9 7 2 2 6 1 2 7 1]                                   </td> <td>inf        </td> <td>{1, 4, 7}                         </td>\n",
       "        </tr>\n",
       "    </tbody>\n",
       "        <tr>\n",
       "            <td>pietro, gaston</td> <td>5500    </td> <td>[ 0 13 36  7  3  2  2  3  0  1 30  0]                       </td> <td>inf        </td> <td>{2, 10, 7}                        </td>\n",
       "        </tr>\n",
       "    </tbody>\n",
       "        <tr>\n",
       "            <td>rain          </td> <td>5500    </td> <td>[ 3  0  6  5  5  3  5  3 50  3  0  0]                       </td> <td>inf        </td> <td>{9, 3}                            </td>\n",
       "        </tr>\n",
       "    </tbody>\n",
       "        <tr>\n",
       "            <td>banana, war   </td> <td>5500    </td> <td>[ 4  2 18 31 48 21 29 14 27 11 10  2]                       </td> <td>inf        </td> <td>{9, 4}                            </td>\n",
       "        </tr>\n",
       "    </tbody>\n",
       "</table>"
      ],
      "text/plain": [
       "<IPython.core.display.HTML object>"
      ]
     },
     "metadata": {},
     "output_type": "display_data"
    }
   ],
   "source": [
    "# Note that the words are stemmed\n",
    "chars = [\n",
    "        # Buendia family\n",
    "        'aureliano',\n",
    "         'arcadio',\n",
    "         'úrsula',\n",
    "         'remedio',\n",
    "         'amaranta',\n",
    "         'rebeca',\n",
    "    \n",
    "        # Other characters\n",
    "         'melquíad',\n",
    "         'pilar',\n",
    "         ['pietro', 'gaston'],\n",
    "         'rain',\n",
    "         ['banana', 'war']\n",
    "        ]\n",
    "\n",
    "data_tab = hundred_years.gather_char_data(chars)\n",
    "data_tab = data_tab.with_column(\n",
    "                \"Appearances\",\n",
    "                data_tab.apply(lambda x: x[0], 'Appearances')\n",
    "            )\n",
    "data_tab.show()"
   ]
  },
  {
   "cell_type": "markdown",
   "metadata": {},
   "source": [
    "Questions to be answered with this data:\n",
    "1. Are there any characters whose appearances have similar shape?\n",
    "1. Are there any characters whose peaks coincide?\n",
    "1. It seems like only Aureliano and Arcadio have a measured periodicity, but the periodicity is consistent no matter the bin size. Is this significant?\n",
    "1. How do we identify potential relationships like 'banana' vs. 'war'? \n",
    "  - Method 1: By translating an appearance distribution and see if they match. \n",
    "  - Method 2: Look at the periodicity of the peaks?\n",
    "  - Normalized values might give us more interesting results than raw counts. What about periodicity on normalized values?"
   ]
  },
  {
   "cell_type": "markdown",
   "metadata": {},
   "source": [
    "# Additional Explorations"
   ]
  },
  {
   "cell_type": "markdown",
   "metadata": {},
   "source": [
    "## Automate Plotting Character Appearances using NER"
   ]
  },
  {
   "cell_type": "code",
   "execution_count": null,
   "metadata": {
    "collapsed": false
   },
   "outputs": [],
   "source": [
    "hundred_years_pos_name = 'hundred_years_pos.pickle'\n",
    "if not os.path.isfile(hundred_years_pos_name):    \n",
    "    hundred_years_pos = [pos_tag(word_tokenize(chapter)) for chapter in hundred_years_chapters]\n",
    "else:\n",
    "    with open(hundred_years_pos_name, 'rb') as r:\n",
    "        hundred_years_pos = pickle.load(r)\n",
    "hundred_years_pos[0][:10]"
   ]
  },
  {
   "cell_type": "code",
   "execution_count": null,
   "metadata": {
    "collapsed": true
   },
   "outputs": [],
   "source": [
    "if not os.path.isfile(hundred_years_pos_name):    \n",
    "    with open(hundred_years_pos_name, 'wb') as w:\n",
    "        pickle.dump(hundred_years_pos, w)"
   ]
  },
  {
   "cell_type": "code",
   "execution_count": null,
   "metadata": {
    "collapsed": false
   },
   "outputs": [],
   "source": [
    "chunks = [ne_chunk(chapter) for chapter in hundred_years_pos]\n",
    "\n",
    "# Note: Some people have the wrong label, like Melquíades as GPE and Coronel Aureliano Buendía as ORGANIZATION\n",
    "# It is not a consistent mistake, so neighboring words matter for NER chunking\n",
    "\n",
    "def get_chunk_phrase(chunk):\n",
    "    return ' '.join(leaf[0] for leaf in chunk.leaves())\n",
    "\n",
    "people = [[get_chunk_phrase(chunk) for chunk in chapter if type(chunk) == nltk.tree.Tree and chunk.label() == 'PERSON']\n",
    "             for chapter in chunks]"
   ]
  },
  {
   "cell_type": "code",
   "execution_count": null,
   "metadata": {
    "collapsed": false
   },
   "outputs": [],
   "source": [
    "empty_set = set()\n",
    "character_set = empty_set.union(*[set(chapter) for chapter in people])\n",
    "\n",
    "# Attempt to build a clean list of characters\n",
    "english_words = words.words()\n",
    "names = set([word for word in character_set if word.lower() not in english_words])\n",
    "names"
   ]
  },
  {
   "cell_type": "markdown",
   "metadata": {},
   "source": [
    "Despite the processing I do, the final set of names is not clean: \n",
    "1. It contains a lot of repeated names (referring to the same person)\n",
    "1. Common words stuck with a name (e.g. Against Úrsula)\n",
    "1. Nouns that are accidentally identified as people (e.g. Sanskrit)."
   ]
  },
  {
   "cell_type": "markdown",
   "metadata": {},
   "source": [
    "## Word2Vec\n",
    "Step 1: Tokenize by sentences\n",
    "Step 2: Remove stopwords and punctuation\n",
    "Step 3: Stem"
   ]
  },
  {
   "cell_type": "code",
   "execution_count": 334,
   "metadata": {
    "collapsed": false
   },
   "outputs": [],
   "source": [
    "try:\n",
    "    model = gensim.models.Word2Vec.load('hundred_years_word2vec.gensim')\n",
    "except:\n",
    "    sentences = list(map(lambda x: x.split(), sent_tokenize(hundred_years.text.lower())))\n",
    "    for i in range(len(sentences)):\n",
    "        sentences[i] = clean_text(' '.join(sentences[i]), 'english')\n",
    "\n",
    "    model = gensim.models.Word2Vec(sentences, min_count=10)\n",
    "    model.save('hundred_years_word2vec.gensim')"
   ]
  },
  {
   "cell_type": "code",
   "execution_count": 335,
   "metadata": {
    "collapsed": false
   },
   "outputs": [
    {
     "data": {
      "text/plain": [
       "[('world', 0.9998833537101746),\n",
       " ('melquíad', 0.9998801946640015),\n",
       " ('gave', 0.9998776912689209),\n",
       " ('fernanda', 0.9998776912689209),\n",
       " ('life', 0.9998763799667358),\n",
       " ('have', 0.9998759031295776),\n",
       " ('tri', 0.9998753070831299),\n",
       " ('way', 0.9998737573623657),\n",
       " ('man', 0.9998732805252075),\n",
       " ('memori', 0.9998722076416016)]"
      ]
     },
     "execution_count": 335,
     "metadata": {},
     "output_type": "execute_result"
    }
   ],
   "source": [
    "model.most_similar(positive=['solitud'])"
   ]
  },
  {
   "cell_type": "markdown",
   "metadata": {},
   "source": [
    "## Topic Modeling\n",
    "Since the natural and supernatural are well integrated in the novel, one approach to tease out the difference is via topic modeling. Traditional topic modeling approaches are more appropriate for thousands of small documents, but they are worth trying here."
   ]
  },
  {
   "cell_type": "code",
   "execution_count": 336,
   "metadata": {
    "collapsed": false
   },
   "outputs": [],
   "source": [
    "lda_name = 'lda_hundred_years.gensim'\n",
    "try:\n",
    "    lda_model = gensim.models.LdaModel.load(lda_name)\n",
    "except:\n",
    "    split_chapters = split_words(hundred_years.text.split('\\n\\n'), 'english')\n",
    "    dictionary = gensim.corpora.dictionary.Dictionary(split_chapters)\n",
    "    corpus = [dictionary.doc2bow(text) for text in split_chapters]\n",
    "    # Must increase the number of passes, or else the model does not converge\n",
    "    lda_model = gensim.models.LdaModel(corpus, num_topics=100, id2word=dictionary, passes=10)\n",
    "    lda_model.save(lda_name)"
   ]
  },
  {
   "cell_type": "code",
   "execution_count": 337,
   "metadata": {
    "collapsed": false
   },
   "outputs": [
    {
     "name": "stdout",
     "output_type": "stream",
     "text": [
      "0 [(36, 0.58877260649580376), (84, 0.4039895550384498)]\n",
      "1 [(36, 0.71138803734076572), (9, 0.081141186081988309), (42, 0.079830075454608504), (94, 0.077273295909431855), (13, 0.037691962132302123), (84, 0.012324041211739847)]\n",
      "2 [(42, 0.76343609493610642), (84, 0.2362638438269026)]\n",
      "3 [(42, 0.80136129600165751), (36, 0.090406730340778119), (84, 0.055904328637606908), (86, 0.025236823281702795), (13, 0.014062279873890462)]\n",
      "4 [(13, 0.52768606784564676), (42, 0.40265167372937682), (89, 0.051793743976554195), (36, 0.016746505029841652)]\n",
      "5 [(42, 0.8352141484952702), (36, 0.14165863951796157)]\n",
      "6 [(42, 0.71014857583079016), (9, 0.26376728937874605), (86, 0.021039656416946419)]\n",
      "7 [(9, 0.77967347625053895), (42, 0.15785459320229972), (94, 0.047397312799204325), (89, 0.014746300374489362)]\n",
      "8 [(42, 0.48435162250669656), (59, 0.22468317868758808), (9, 0.19812365038224847), (89, 0.078805971375705067)]\n",
      "9 [(36, 0.40489355837290752), (49, 0.35771533678951378), (42, 0.21031640852690525), (12, 0.014857263324072082)]\n",
      "10 [(42, 0.38848797950250935), (94, 0.36007212329043031), (89, 0.15402228273912874), (36, 0.026179282001090869), (30, 0.025846526491200641), (64, 0.025550162949212321), (49, 0.011815213483431529)]\n",
      "11 [(42, 0.96471788389195701), (89, 0.024856748629581555), (84, 0.010113470372348247)]\n",
      "12 [(53, 0.3405997983519321), (42, 0.29745903264691348), (36, 0.19433122826913263), (89, 0.10118396103542299), (84, 0.033791331222188963), (12, 0.032354886569644983)]\n",
      "13 [(89, 0.98168319555778738), (12, 0.018034708875142393)]\n",
      "14 [(12, 0.68590850346087018), (9, 0.15686902534442523), (42, 0.1554267747034708)]\n",
      "15 [(84, 0.70054105787758292), (89, 0.12647689785011218), (36, 0.071967351115742692), (3, 0.061100733419652692), (42, 0.025461182460675882), (12, 0.013000242508603715)]\n",
      "16 [(94, 0.53461065375153083), (84, 0.20589863058441987), (42, 0.16754590158317154), (12, 0.048372517336374606), (89, 0.022790823369655044), (36, 0.012582828825903921)]\n",
      "17 [(36, 0.55740130570642865), (94, 0.24516844200675988), (12, 0.11871202582840666), (84, 0.038472066453569639), (42, 0.034327532188786314)]\n",
      "18 [(42, 0.2696331884914383), (64, 0.26920577689412795), (36, 0.26620864908352754), (9, 0.09326961010779003), (84, 0.075788992322972135), (89, 0.021347740078210178)]\n",
      "19 [(84, 0.63074341475969686), (12, 0.18781929030016717), (42, 0.1264609873352068), (64, 0.047133535614250384)]\n"
     ]
    }
   ],
   "source": [
    "chapter_topics = {}\n",
    "\n",
    "for i in range(len(split_chapters)):\n",
    "    chapter_topics[i] = lda_model[dictionary.doc2bow(split_chapters[i])]\n",
    "    \n",
    "top_topics_per_chapter = [sorted(chapter_topics[chapter], key=lambda x: -x[1]) for chapter in chapter_topics]\n",
    "for i in range(len(chapter_topics)):\n",
    "    print(i, top_topics_per_chapter[i])"
   ]
  },
  {
   "cell_type": "code",
   "execution_count": 338,
   "metadata": {
    "collapsed": false
   },
   "outputs": [
    {
     "name": "stdout",
     "output_type": "stream",
     "text": [
      "64\n",
      "[('gaston', 0.025289320978276443), ('aureliano', 0.023135329570931597), ('amaranta', 0.016524389083737052), ('time', 0.015622186810659612), ('love', 0.015074534571856257), ('nigromanta', 0.012342121613993099), ('make', 0.0089217724139512254), ('airplan', 0.0081114861043242517), ('custom', 0.0080635475230824809), ('gabriel', 0.008034804738305739)]\n",
      "3\n",
      "[('segundo', 0.042813683549218065), ('rain', 0.030928336423083829), ('josé', 0.029589595804373973), ('arcadio', 0.028643991974200922), ('fernanda', 0.013377307539906657), ('wors', 0.011989520355892772), ('highland', 0.010984658303527741), ('petra', 0.008794036297323277), ('rush', 0.0083114455624981702), ('abstin', 0.0082961792735662763)]\n",
      "36\n",
      "[('time', 0.013219175417789225), ('arcadio', 0.010506294416936705), ('úrsula', 0.010362392436487332), ('did', 0.010011508460338539), ('hous', 0.0091852782872843784), ('josé', 0.0083294882324950522), ('like', 0.0072699785984595379), ('headoffamili', 0.0066925130961720206), ('day', 0.0064456624457600049), ('room', 0.0058034163274212694)]\n",
      "9\n",
      "[('aureliano', 0.025244170595955157), ('colonel', 0.019412074532199449), ('buendía', 0.014631879123131056), ('úrsula', 0.012447817648267419), ('time', 0.010264760532822749), ('josé', 0.010083080124589036), ('war', 0.0078118245929228638), ('amaranta', 0.0073626831423012186), ('said', 0.0072880962203483281), ('general', 0.0070588458085630388)]\n",
      "42\n",
      "[('aureliano', 0.010374023474077388), ('hous', 0.0086319769885350849), ('time', 0.008436144328647888), ('úrsula', 0.007858546483209574), ('did', 0.007076476864749515), ('arcadio', 0.0065017699219813811), ('said', 0.0058275252008804842), ('day', 0.0057096893416808047), ('amaranta', 0.0048984737836958482), ('colonel', 0.0047545731398103324)]\n",
      "12\n",
      "[('aureliano', 0.0184988774199548), ('segundo', 0.016689341773760212), ('fernanda', 0.011836187790907433), ('did', 0.011293802551794728), ('time', 0.0087447517344515138), ('train', 0.0072309003103552365), ('child', 0.0070602692785529672), ('banana', 0.0066429956325920608), ('worker', 0.0059436459309883047), ('la', 0.0057166842237899905)]\n",
      "13\n",
      "[('rebeca', 0.012503363497453689), ('aureliano', 0.01213199862404705), ('nicanor', 0.0088928890673490701), ('moscot', 0.0088777939519732799), ('father', 0.0085203311965922953), ('wed', 0.0083016577660771692), ('crespi', 0.0080727101725980941), ('pietro', 0.0079329129994223316), ('said', 0.007501295394586549), ('don', 0.006978627414173098)]\n",
      "49\n",
      "[('segundo', 0.047137505359491405), ('josé', 0.020013751474440154), ('arcadio', 0.016230354752451645), ('beauti', 0.014443663998915182), ('aureliano', 0.013850906657081365), ('úrsula', 0.010680372879691091), ('petra', 0.009810077299013082), ('colonel', 0.0093186514355021108), ('cote', 0.0091342803673117989), ('remedio', 0.0090203551449289064)]\n",
      "84\n",
      "[('úrsula', 0.011203920363745649), ('time', 0.0086927674479717401), ('aureliano', 0.0081613253626739955), ('hous', 0.0055323127965750821), ('did', 0.005422602901257882), ('like', 0.0052023144371513372), ('macondo', 0.0051449025844492371), ('amaranta', 0.0050532446942986621), ('rain', 0.0047949349814740997), ('look', 0.0046046859092089268)]\n",
      "53\n",
      "[('time', 0.017794361103653972), ('segundo', 0.016713588063898364), ('josé', 0.016305216078036582), ('fernanda', 0.012464633281771326), ('arcadio', 0.012317359633610199), ('hous', 0.011112013042697008), ('famili', 0.009325008553289103), ('realiz', 0.0088430935629601401), ('day', 0.0088392822771565637), ('colonel', 0.0087047546466989378)]\n",
      "86\n",
      "[('frontier', 0.012997856960880867), ('aguilar', 0.010779627177271094), ('harrow', 0.0086687413105574745), ('unburi', 0.0086605227926899002), ('mister', 0.0086269490971853744), ('mama', 0.0085662600839845979), ('motion', 0.0085637831969844966), ('remind', 0.0085628913994860497), ('ballerina', 0.0084558981430100256), ('constant', 0.00839150984560217)]\n",
      "30\n",
      "[('trist', 0.017519183535757894), ('ofosif', 0.012793051622662874), ('baptism', 0.012788856447426925), ('unpleas', 0.012762926097773341), ('dirg', 0.012326291422317292), ('homag', 0.010390167861061525), ('stubborn', 0.0090137790501059641), ('repack', 0.006439480998701618), ('chapel', 0.0064391082108255981), ('rap', 0.0064390791141082657)]\n",
      "89\n",
      "[('remedio', 0.016851368012669329), ('time', 0.014789456003384851), ('fernanda', 0.01270338437114147), ('did', 0.010614860058808111), ('amaranta', 0.009912269528115766), ('josé', 0.0093637699873567997), ('arcadio', 0.0086381136634115525), ('segundo', 0.0084833333827604197), ('thought', 0.0074288715169262016), ('hous', 0.0059130569699210279)]\n",
      "59\n",
      "[('colonel', 0.064157752660528006), ('war', 0.032982246288620017), ('buendía', 0.031285433703373756), ('gerineldo', 0.01928612160350026), ('aureliano', 0.018368865157458183), ('márquez', 0.017242069472107144), ('command', 0.013041223867670003), ('time', 0.012809806235466084), ('said', 0.012327564908032737), ('armistic', 0.011872699388927451)]\n",
      "94\n",
      "[('aureliano', 0.014815142588362862), ('josé', 0.014487442535032539), ('time', 0.014332613342502666), ('fernanda', 0.013104623319401472), ('segundo', 0.012730489205582248), ('arcadio', 0.011235894912004149), ('hous', 0.011109651526522551), ('úrsula', 0.0084073480354654173), ('did', 0.0083825886473563489), ('year', 0.0057467470048657857)]\n"
     ]
    }
   ],
   "source": [
    "most_common_topics = list(set([num for num, _ in flatten(top_topics_per_chapter)]))\n",
    "for topic_num in most_common_topics:\n",
    "    print(topic_num)\n",
    "    print(lda_model.show_topic(topic_num))"
   ]
  },
  {
   "cell_type": "markdown",
   "metadata": {},
   "source": [
    "# Works Cited\n",
    "* Angulo, María Elena. *Magical Realism: Social Context and Discourse*. New York: Garland Publishing, Inc. 1995. Print. \n",
    "* Bell-Villada, Gene H.. “Names and Narrative Pattern in \"One Hundred Years of Solitude\"”. Latin American Literary Review 9.18 (1981): 37–46. Web. 15 April 2016."
   ]
  }
 ],
 "metadata": {
  "kernelspec": {
   "display_name": "Python 3",
   "language": "python",
   "name": "python3"
  },
  "language_info": {
   "codemirror_mode": {
    "name": "ipython",
    "version": 3
   },
   "file_extension": ".py",
   "mimetype": "text/x-python",
   "name": "python",
   "nbconvert_exporter": "python",
   "pygments_lexer": "ipython3",
   "version": "3.5.1"
  }
 },
 "nbformat": 4,
 "nbformat_minor": 0
}
